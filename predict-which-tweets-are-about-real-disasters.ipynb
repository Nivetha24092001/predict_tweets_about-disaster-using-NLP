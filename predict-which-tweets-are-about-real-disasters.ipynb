{
 "cells": [
  {
   "cell_type": "markdown",
   "id": "f9b3b8d2",
   "metadata": {},
   "source": [
    "# Predict which tweets are about real disasters"
   ]
  },
  {
   "cell_type": "markdown",
   "id": "3c95b864",
   "metadata": {},
   "source": [
    "Name: Nivetha M<br>Roll No: 215221926"
   ]
  },
  {
   "cell_type": "markdown",
   "id": "87855c27",
   "metadata": {
    "papermill": {
     "duration": 0.051459,
     "end_time": "2022-04-08T03:30:53.629518",
     "exception": false,
     "start_time": "2022-04-08T03:30:53.578059",
     "status": "completed"
    },
    "tags": []
   },
   "source": [
    "## 1. Import and read data"
   ]
  },
  {
   "cell_type": "code",
   "execution_count": 1,
   "id": "92eb794a",
   "metadata": {
    "execution": {
     "iopub.execute_input": "2022-04-08T03:30:53.732972Z",
     "iopub.status.busy": "2022-04-08T03:30:53.731788Z",
     "iopub.status.idle": "2022-04-08T03:30:55.412850Z",
     "shell.execute_reply": "2022-04-08T03:30:55.413380Z",
     "shell.execute_reply.started": "2022-04-08T02:45:58.474668Z"
    },
    "papermill": {
     "duration": 1.735403,
     "end_time": "2022-04-08T03:30:55.413681",
     "exception": false,
     "start_time": "2022-04-08T03:30:53.678278",
     "status": "completed"
    },
    "tags": []
   },
   "outputs": [],
   "source": [
    "import numpy as np\n",
    "import pandas as pd\n",
    "import nltk\n",
    "import re\n",
    "import sys\n",
    "import seaborn as sns\n",
    "import matplotlib.pyplot as plt\n",
    "%matplotlib inline\n",
    "\n",
    "import warnings\n",
    "warnings.filterwarnings('ignore')"
   ]
  },
  {
   "cell_type": "code",
   "execution_count": 2,
   "id": "5b2fe75a",
   "metadata": {
    "execution": {
     "iopub.execute_input": "2022-04-08T03:30:55.514264Z",
     "iopub.status.busy": "2022-04-08T03:30:55.513619Z",
     "iopub.status.idle": "2022-04-08T03:30:55.520140Z",
     "shell.execute_reply": "2022-04-08T03:30:55.521071Z",
     "shell.execute_reply.started": "2022-04-08T02:46:08.165359Z"
    },
    "papermill": {
     "duration": 0.059059,
     "end_time": "2022-04-08T03:30:55.521334",
     "exception": false,
     "start_time": "2022-04-08T03:30:55.462275",
     "status": "completed"
    },
    "tags": []
   },
   "outputs": [
    {
     "name": "stdout",
     "output_type": "stream",
     "text": [
      "Python 3.7.12 | packaged by conda-forge | (default, Oct 26 2021, 06:08:53) \n",
      "[GCC 9.4.0]\n",
      "Numpy 1.20.3\n",
      "Panda 1.3.5\n",
      "NLTK 3.2.4\n",
      "Seaborn 0.11.2\n"
     ]
    }
   ],
   "source": [
    "print('Python {}'.format(sys.version))\n",
    "print('Numpy {}'.format(np.__version__))\n",
    "print('Panda {}'.format(pd.__version__))\n",
    "print('NLTK {}'.format(nltk.__version__))\n",
    "print('Seaborn {}'.format(sns.__version__))"
   ]
  },
  {
   "cell_type": "markdown",
   "id": "62da9e49",
   "metadata": {
    "papermill": {
     "duration": 0.048551,
     "end_time": "2022-04-08T03:30:55.621257",
     "exception": false,
     "start_time": "2022-04-08T03:30:55.572706",
     "status": "completed"
    },
    "tags": []
   },
   "source": [
    "### 1.1 Load Dataset"
   ]
  },
  {
   "cell_type": "code",
   "execution_count": 2,
   "id": "4a3af2a5",
   "metadata": {
    "execution": {
     "iopub.execute_input": "2022-04-08T03:30:55.722674Z",
     "iopub.status.busy": "2022-04-08T03:30:55.722002Z",
     "iopub.status.idle": "2022-04-08T03:30:55.767975Z",
     "shell.execute_reply": "2022-04-08T03:30:55.768553Z",
     "shell.execute_reply.started": "2022-04-08T02:46:18.106148Z"
    },
    "papermill": {
     "duration": 0.098736,
     "end_time": "2022-04-08T03:30:55.768729",
     "exception": false,
     "start_time": "2022-04-08T03:30:55.669993",
     "status": "completed"
    },
    "tags": []
   },
   "outputs": [],
   "source": [
    "df_train = pd.read_csv('train.csv')"
   ]
  },
  {
   "cell_type": "code",
   "execution_count": 3,
   "id": "e61398af",
   "metadata": {
    "execution": {
     "iopub.execute_input": "2022-04-08T03:30:55.869299Z",
     "iopub.status.busy": "2022-04-08T03:30:55.868640Z",
     "iopub.status.idle": "2022-04-08T03:30:55.898467Z",
     "shell.execute_reply": "2022-04-08T03:30:55.899044Z",
     "shell.execute_reply.started": "2022-04-08T02:46:23.065989Z"
    },
    "papermill": {
     "duration": 0.081675,
     "end_time": "2022-04-08T03:30:55.899239",
     "exception": false,
     "start_time": "2022-04-08T03:30:55.817564",
     "status": "completed"
    },
    "tags": []
   },
   "outputs": [
    {
     "name": "stdout",
     "output_type": "stream",
     "text": [
      "<class 'pandas.core.frame.DataFrame'>\n",
      "RangeIndex: 7613 entries, 0 to 7612\n",
      "Data columns (total 5 columns):\n",
      " #   Column    Non-Null Count  Dtype \n",
      "---  ------    --------------  ----- \n",
      " 0   id        7613 non-null   int64 \n",
      " 1   keyword   7552 non-null   object\n",
      " 2   location  5080 non-null   object\n",
      " 3   text      7613 non-null   object\n",
      " 4   target    7613 non-null   int64 \n",
      "dtypes: int64(2), object(3)\n",
      "memory usage: 297.5+ KB\n",
      "None\n",
      "===================================\n",
      "   id keyword location                                               text  \\\n",
      "0   1     NaN      NaN  Our Deeds are the Reason of this #earthquake M...   \n",
      "1   4     NaN      NaN             Forest fire near La Ronge Sask. Canada   \n",
      "2   5     NaN      NaN  All residents asked to 'shelter in place' are ...   \n",
      "3   6     NaN      NaN  13,000 people receive #wildfires evacuation or...   \n",
      "4   7     NaN      NaN  Just got sent this photo from Ruby #Alaska as ...   \n",
      "\n",
      "   target  \n",
      "0       1  \n",
      "1       1  \n",
      "2       1  \n",
      "3       1  \n",
      "4       1  \n",
      "===================================\n"
     ]
    }
   ],
   "source": [
    "print(df_train.info())\n",
    "print('===================================')\n",
    "print(df_train.head())\n",
    "print('===================================')"
   ]
  },
  {
   "cell_type": "markdown",
   "id": "cf35e67f",
   "metadata": {
    "papermill": {
     "duration": 0.049011,
     "end_time": "2022-04-08T03:30:55.997795",
     "exception": false,
     "start_time": "2022-04-08T03:30:55.948784",
     "status": "completed"
    },
    "tags": []
   },
   "source": [
    "**Since the id, keyword and location are not important so to drop them**"
   ]
  },
  {
   "cell_type": "code",
   "execution_count": 4,
   "id": "93c83d9b",
   "metadata": {
    "execution": {
     "iopub.execute_input": "2022-04-08T03:30:56.104866Z",
     "iopub.status.busy": "2022-04-08T03:30:56.104197Z",
     "iopub.status.idle": "2022-04-08T03:30:56.106038Z",
     "shell.execute_reply": "2022-04-08T03:30:56.106539Z",
     "shell.execute_reply.started": "2022-04-08T02:46:52.680894Z"
    },
    "papermill": {
     "duration": 0.058624,
     "end_time": "2022-04-08T03:30:56.106703",
     "exception": false,
     "start_time": "2022-04-08T03:30:56.048079",
     "status": "completed"
    },
    "tags": []
   },
   "outputs": [],
   "source": [
    "df_train.drop(['id','keyword','location'], axis = 1, inplace=True)"
   ]
  },
  {
   "cell_type": "markdown",
   "id": "bd3d598d",
   "metadata": {
    "papermill": {
     "duration": 0.048733,
     "end_time": "2022-04-08T03:30:56.204405",
     "exception": false,
     "start_time": "2022-04-08T03:30:56.155672",
     "status": "completed"
    },
    "tags": []
   },
   "source": [
    "### 1.2 Average Tweet Length"
   ]
  },
  {
   "cell_type": "code",
   "execution_count": 5,
   "id": "922adfa0",
   "metadata": {
    "execution": {
     "iopub.execute_input": "2022-04-08T03:30:56.307332Z",
     "iopub.status.busy": "2022-04-08T03:30:56.306722Z",
     "iopub.status.idle": "2022-04-08T03:30:56.308802Z",
     "shell.execute_reply": "2022-04-08T03:30:56.309308Z",
     "shell.execute_reply.started": "2022-04-08T02:47:39.363644Z"
    },
    "papermill": {
     "duration": 0.056049,
     "end_time": "2022-04-08T03:30:56.309462",
     "exception": false,
     "start_time": "2022-04-08T03:30:56.253413",
     "status": "completed"
    },
    "tags": []
   },
   "outputs": [],
   "source": [
    "def avg_word(sentence):\n",
    "    words = sentence.split()\n",
    "    return (sum(len(word) for word in words)/len(words))"
   ]
  },
  {
   "cell_type": "code",
   "execution_count": 6,
   "id": "7973f621",
   "metadata": {
    "execution": {
     "iopub.execute_input": "2022-04-08T03:30:56.428164Z",
     "iopub.status.busy": "2022-04-08T03:30:56.409843Z",
     "iopub.status.idle": "2022-04-08T03:30:56.443818Z",
     "shell.execute_reply": "2022-04-08T03:30:56.443145Z",
     "shell.execute_reply.started": "2022-04-08T02:47:47.191960Z"
    },
    "papermill": {
     "duration": 0.085451,
     "end_time": "2022-04-08T03:30:56.444007",
     "exception": false,
     "start_time": "2022-04-08T03:30:56.358556",
     "status": "completed"
    },
    "tags": []
   },
   "outputs": [],
   "source": [
    "df_train['avg_word'] = df_train['text'].apply(lambda x: avg_word(x))"
   ]
  },
  {
   "cell_type": "code",
   "execution_count": 7,
   "id": "ecaddece",
   "metadata": {
    "execution": {
     "iopub.execute_input": "2022-04-08T03:30:56.555061Z",
     "iopub.status.busy": "2022-04-08T03:30:56.549513Z",
     "iopub.status.idle": "2022-04-08T03:30:56.563486Z",
     "shell.execute_reply": "2022-04-08T03:30:56.563947Z",
     "shell.execute_reply.started": "2022-04-08T02:47:52.223797Z"
    },
    "papermill": {
     "duration": 0.070273,
     "end_time": "2022-04-08T03:30:56.564116",
     "exception": false,
     "start_time": "2022-04-08T03:30:56.493843",
     "status": "completed"
    },
    "tags": []
   },
   "outputs": [
    {
     "name": "stdout",
     "output_type": "stream",
     "text": [
      "Disaster Tweets\n",
      "=================================\n"
     ]
    },
    {
     "data": {
      "text/html": [
       "<div>\n",
       "<style scoped>\n",
       "    .dataframe tbody tr th:only-of-type {\n",
       "        vertical-align: middle;\n",
       "    }\n",
       "\n",
       "    .dataframe tbody tr th {\n",
       "        vertical-align: top;\n",
       "    }\n",
       "\n",
       "    .dataframe thead th {\n",
       "        text-align: right;\n",
       "    }\n",
       "</style>\n",
       "<table border=\"1\" class=\"dataframe\">\n",
       "  <thead>\n",
       "    <tr style=\"text-align: right;\">\n",
       "      <th></th>\n",
       "      <th>text</th>\n",
       "      <th>target</th>\n",
       "      <th>avg_word</th>\n",
       "    </tr>\n",
       "  </thead>\n",
       "  <tbody>\n",
       "    <tr>\n",
       "      <th>0</th>\n",
       "      <td>Our Deeds are the Reason of this #earthquake M...</td>\n",
       "      <td>1</td>\n",
       "      <td>4.384615</td>\n",
       "    </tr>\n",
       "    <tr>\n",
       "      <th>1</th>\n",
       "      <td>Forest fire near La Ronge Sask. Canada</td>\n",
       "      <td>1</td>\n",
       "      <td>4.571429</td>\n",
       "    </tr>\n",
       "    <tr>\n",
       "      <th>2</th>\n",
       "      <td>All residents asked to 'shelter in place' are ...</td>\n",
       "      <td>1</td>\n",
       "      <td>5.090909</td>\n",
       "    </tr>\n",
       "    <tr>\n",
       "      <th>3</th>\n",
       "      <td>13,000 people receive #wildfires evacuation or...</td>\n",
       "      <td>1</td>\n",
       "      <td>7.125000</td>\n",
       "    </tr>\n",
       "    <tr>\n",
       "      <th>4</th>\n",
       "      <td>Just got sent this photo from Ruby #Alaska as ...</td>\n",
       "      <td>1</td>\n",
       "      <td>4.500000</td>\n",
       "    </tr>\n",
       "  </tbody>\n",
       "</table>\n",
       "</div>"
      ],
      "text/plain": [
       "                                                text  target  avg_word\n",
       "0  Our Deeds are the Reason of this #earthquake M...       1  4.384615\n",
       "1             Forest fire near La Ronge Sask. Canada       1  4.571429\n",
       "2  All residents asked to 'shelter in place' are ...       1  5.090909\n",
       "3  13,000 people receive #wildfires evacuation or...       1  7.125000\n",
       "4  Just got sent this photo from Ruby #Alaska as ...       1  4.500000"
      ]
     },
     "execution_count": 7,
     "metadata": {},
     "output_type": "execute_result"
    }
   ],
   "source": [
    "print('Disaster Tweets')\n",
    "print('=================================')\n",
    "Disaster = df_train[df_train.target==1]\n",
    "Disaster.head()"
   ]
  },
  {
   "cell_type": "code",
   "execution_count": 8,
   "id": "f83db4af",
   "metadata": {
    "execution": {
     "iopub.execute_input": "2022-04-08T03:30:56.677587Z",
     "iopub.status.busy": "2022-04-08T03:30:56.671542Z",
     "iopub.status.idle": "2022-04-08T03:30:56.681650Z",
     "shell.execute_reply": "2022-04-08T03:30:56.682225Z",
     "shell.execute_reply.started": "2022-04-08T02:47:59.872961Z"
    },
    "papermill": {
     "duration": 0.066339,
     "end_time": "2022-04-08T03:30:56.682405",
     "exception": false,
     "start_time": "2022-04-08T03:30:56.616066",
     "status": "completed"
    },
    "tags": []
   },
   "outputs": [
    {
     "name": "stdout",
     "output_type": "stream",
     "text": [
      "Non-Disaster Tweets\n",
      "=================================\n"
     ]
    },
    {
     "data": {
      "text/html": [
       "<div>\n",
       "<style scoped>\n",
       "    .dataframe tbody tr th:only-of-type {\n",
       "        vertical-align: middle;\n",
       "    }\n",
       "\n",
       "    .dataframe tbody tr th {\n",
       "        vertical-align: top;\n",
       "    }\n",
       "\n",
       "    .dataframe thead th {\n",
       "        text-align: right;\n",
       "    }\n",
       "</style>\n",
       "<table border=\"1\" class=\"dataframe\">\n",
       "  <thead>\n",
       "    <tr style=\"text-align: right;\">\n",
       "      <th></th>\n",
       "      <th>text</th>\n",
       "      <th>target</th>\n",
       "      <th>avg_word</th>\n",
       "    </tr>\n",
       "  </thead>\n",
       "  <tbody>\n",
       "    <tr>\n",
       "      <th>15</th>\n",
       "      <td>What's up man?</td>\n",
       "      <td>0</td>\n",
       "      <td>4.000000</td>\n",
       "    </tr>\n",
       "    <tr>\n",
       "      <th>16</th>\n",
       "      <td>I love fruits</td>\n",
       "      <td>0</td>\n",
       "      <td>3.666667</td>\n",
       "    </tr>\n",
       "    <tr>\n",
       "      <th>17</th>\n",
       "      <td>Summer is lovely</td>\n",
       "      <td>0</td>\n",
       "      <td>4.666667</td>\n",
       "    </tr>\n",
       "    <tr>\n",
       "      <th>18</th>\n",
       "      <td>My car is so fast</td>\n",
       "      <td>0</td>\n",
       "      <td>2.600000</td>\n",
       "    </tr>\n",
       "    <tr>\n",
       "      <th>19</th>\n",
       "      <td>What a goooooooaaaaaal!!!!!!</td>\n",
       "      <td>0</td>\n",
       "      <td>8.666667</td>\n",
       "    </tr>\n",
       "  </tbody>\n",
       "</table>\n",
       "</div>"
      ],
      "text/plain": [
       "                            text  target  avg_word\n",
       "15                What's up man?       0  4.000000\n",
       "16                 I love fruits       0  3.666667\n",
       "17              Summer is lovely       0  4.666667\n",
       "18             My car is so fast       0  2.600000\n",
       "19  What a goooooooaaaaaal!!!!!!       0  8.666667"
      ]
     },
     "execution_count": 8,
     "metadata": {},
     "output_type": "execute_result"
    }
   ],
   "source": [
    "print('Non-Disaster Tweets')\n",
    "print('=================================')\n",
    "Non_Disaster = df_train[df_train.target==0]\n",
    "Non_Disaster.head()"
   ]
  },
  {
   "cell_type": "markdown",
   "id": "e7694277",
   "metadata": {
    "papermill": {
     "duration": 0.05033,
     "end_time": "2022-04-08T03:30:56.783683",
     "exception": false,
     "start_time": "2022-04-08T03:30:56.733353",
     "status": "completed"
    },
    "tags": []
   },
   "source": [
    "### 1.3 Class Distribution"
   ]
  },
  {
   "cell_type": "code",
   "execution_count": 9,
   "id": "027cc3d6",
   "metadata": {
    "execution": {
     "iopub.execute_input": "2022-04-08T03:30:56.896374Z",
     "iopub.status.busy": "2022-04-08T03:30:56.895606Z",
     "iopub.status.idle": "2022-04-08T03:30:56.898902Z",
     "shell.execute_reply": "2022-04-08T03:30:56.899790Z",
     "shell.execute_reply.started": "2022-04-08T02:48:53.597106Z"
    },
    "papermill": {
     "duration": 0.061607,
     "end_time": "2022-04-08T03:30:56.900036",
     "exception": false,
     "start_time": "2022-04-08T03:30:56.838429",
     "status": "completed"
    },
    "tags": []
   },
   "outputs": [
    {
     "name": "stdout",
     "output_type": "stream",
     "text": [
      "0    4342\n",
      "1    3271\n",
      "Name: target, dtype: int64\n"
     ]
    }
   ],
   "source": [
    "classes = df_train.loc[:,'target']\n",
    "print(classes.value_counts())"
   ]
  },
  {
   "cell_type": "markdown",
   "id": "e47c1a73",
   "metadata": {
    "papermill": {
     "duration": 0.052011,
     "end_time": "2022-04-08T03:30:57.005723",
     "exception": false,
     "start_time": "2022-04-08T03:30:56.953712",
     "status": "completed"
    },
    "tags": []
   },
   "source": [
    "## 2. Preprocessing"
   ]
  },
  {
   "cell_type": "markdown",
   "id": "cc80a5f0",
   "metadata": {
    "papermill": {
     "duration": 0.051055,
     "end_time": "2022-04-08T03:30:57.110016",
     "exception": false,
     "start_time": "2022-04-08T03:30:57.058961",
     "status": "completed"
    },
    "tags": []
   },
   "source": [
    "### 2.1 Lowercase"
   ]
  },
  {
   "cell_type": "code",
   "execution_count": 10,
   "id": "c423c74f",
   "metadata": {
    "execution": {
     "iopub.execute_input": "2022-04-08T03:30:57.224871Z",
     "iopub.status.busy": "2022-04-08T03:30:57.223857Z",
     "iopub.status.idle": "2022-04-08T03:30:57.257924Z",
     "shell.execute_reply": "2022-04-08T03:30:57.258494Z",
     "shell.execute_reply.started": "2022-04-08T02:53:20.165126Z"
    },
    "papermill": {
     "duration": 0.096937,
     "end_time": "2022-04-08T03:30:57.258674",
     "exception": false,
     "start_time": "2022-04-08T03:30:57.161737",
     "status": "completed"
    },
    "tags": []
   },
   "outputs": [
    {
     "data": {
      "text/plain": [
       "0    our deeds are the reason of this #earthquake m...\n",
       "1               forest fire near la ronge sask. canada\n",
       "2    all residents asked to 'shelter in place' are ...\n",
       "3    13,000 people receive #wildfires evacuation or...\n",
       "4    just got sent this photo from ruby #alaska as ...\n",
       "Name: text, dtype: object"
      ]
     },
     "execution_count": 10,
     "metadata": {},
     "output_type": "execute_result"
    }
   ],
   "source": [
    "df_train['text'] = df_train['text'].apply(lambda x: \" \".join(x.lower() for x in x.split()))\n",
    "df_train['text'].head()"
   ]
  },
  {
   "cell_type": "markdown",
   "id": "2f6b71c5",
   "metadata": {
    "papermill": {
     "duration": 0.051449,
     "end_time": "2022-04-08T03:30:57.361597",
     "exception": false,
     "start_time": "2022-04-08T03:30:57.310148",
     "status": "completed"
    },
    "tags": []
   },
   "source": [
    "### 2.2 Replace URLs"
   ]
  },
  {
   "cell_type": "code",
   "execution_count": 11,
   "id": "81cc021c",
   "metadata": {
    "execution": {
     "iopub.execute_input": "2022-04-08T03:30:57.469506Z",
     "iopub.status.busy": "2022-04-08T03:30:57.468504Z",
     "iopub.status.idle": "2022-04-08T03:30:57.510930Z",
     "shell.execute_reply": "2022-04-08T03:30:57.511529Z",
     "shell.execute_reply.started": "2022-04-08T02:53:43.433418Z"
    },
    "papermill": {
     "duration": 0.09769,
     "end_time": "2022-04-08T03:30:57.511704",
     "exception": false,
     "start_time": "2022-04-08T03:30:57.414014",
     "status": "completed"
    },
    "tags": []
   },
   "outputs": [
    {
     "data": {
      "text/plain": [
       "0    our deeds are the reason of this #earthquake m...\n",
       "1               forest fire near la ronge sask. canada\n",
       "2    all residents asked to 'shelter in place' are ...\n",
       "3    13,000 people receive #wildfires evacuation or...\n",
       "4    just got sent this photo from ruby #alaska as ...\n",
       "Name: text, dtype: object"
      ]
     },
     "execution_count": 11,
     "metadata": {},
     "output_type": "execute_result"
    }
   ],
   "source": [
    "df_train['text'] = df_train['text'].str.replace(r'(http|ftp|https):\\/\\/[\\w\\-_]+(\\.[\\w\\-_]+)+([\\w\\-\\.,@?^=%&amp;:/~\\+#]*[\\w\\-\\@?^=%&amp;/~\\+#])?', ' ')\n",
    "df_train['text'].head()"
   ]
  },
  {
   "cell_type": "markdown",
   "id": "d2b65bc3",
   "metadata": {
    "papermill": {
     "duration": 0.052064,
     "end_time": "2022-04-08T03:30:57.616660",
     "exception": false,
     "start_time": "2022-04-08T03:30:57.564596",
     "status": "completed"
    },
    "tags": []
   },
   "source": [
    "### 2.3 Special Characters Removal"
   ]
  },
  {
   "cell_type": "code",
   "execution_count": 12,
   "id": "b2a6444f",
   "metadata": {
    "execution": {
     "iopub.execute_input": "2022-04-08T03:30:57.724444Z",
     "iopub.status.busy": "2022-04-08T03:30:57.723414Z",
     "iopub.status.idle": "2022-04-08T03:30:57.807016Z",
     "shell.execute_reply": "2022-04-08T03:30:57.807563Z",
     "shell.execute_reply.started": "2022-04-08T02:54:06.824615Z"
    },
    "papermill": {
     "duration": 0.139168,
     "end_time": "2022-04-08T03:30:57.807764",
     "exception": false,
     "start_time": "2022-04-08T03:30:57.668596",
     "status": "completed"
    },
    "tags": []
   },
   "outputs": [
    {
     "data": {
      "text/plain": [
       "0    our deeds are the reason of this earthquake ma...\n",
       "1                forest fire near la ronge sask canada\n",
       "2    all residents asked to shelter in place are be...\n",
       "3    000 people receive wildfires evacuation orders...\n",
       "4    just got sent this photo from ruby alaska as s...\n",
       "Name: text, dtype: object"
      ]
     },
     "execution_count": 12,
     "metadata": {},
     "output_type": "execute_result"
    }
   ],
   "source": [
    "df_train['text']= df_train['text'].str.replace('rt ',\"\").str.replace('@','').str.replace('#','').str.replace('[^\\w\\s]','').str.replace('[1-9]','')\n",
    "df_train['text'].head()"
   ]
  },
  {
   "cell_type": "markdown",
   "id": "d7611804",
   "metadata": {
    "papermill": {
     "duration": 0.053175,
     "end_time": "2022-04-08T03:30:57.915281",
     "exception": false,
     "start_time": "2022-04-08T03:30:57.862106",
     "status": "completed"
    },
    "tags": []
   },
   "source": [
    "### 2.4 Removal of Numbers"
   ]
  },
  {
   "cell_type": "code",
   "execution_count": 13,
   "id": "b8a477f8",
   "metadata": {
    "execution": {
     "iopub.execute_input": "2022-04-08T03:30:58.028375Z",
     "iopub.status.busy": "2022-04-08T03:30:58.027711Z",
     "iopub.status.idle": "2022-04-08T03:30:58.066470Z",
     "shell.execute_reply": "2022-04-08T03:30:58.065928Z",
     "shell.execute_reply.started": "2022-04-08T02:55:34.907984Z"
    },
    "papermill": {
     "duration": 0.097703,
     "end_time": "2022-04-08T03:30:58.066615",
     "exception": false,
     "start_time": "2022-04-08T03:30:57.968912",
     "status": "completed"
    },
    "tags": []
   },
   "outputs": [
    {
     "data": {
      "text/plain": [
       "0    our deeds are the reason of this earthquake ma...\n",
       "1                forest fire near la ronge sask canada\n",
       "2    all residents asked to shelter in place are be...\n",
       "3     people receive wildfires evacuation orders in...\n",
       "4    just got sent this photo from ruby alaska as s...\n",
       "Name: text, dtype: object"
      ]
     },
     "execution_count": 13,
     "metadata": {},
     "output_type": "execute_result"
    }
   ],
   "source": [
    "df_train['text'] = df_train['text'].str.replace(r'\\d+(\\.\\d+)?','')\n",
    "df_train['text'].head()"
   ]
  },
  {
   "cell_type": "markdown",
   "id": "16ced78c",
   "metadata": {
    "papermill": {
     "duration": 0.052671,
     "end_time": "2022-04-08T03:30:58.172407",
     "exception": false,
     "start_time": "2022-04-08T03:30:58.119736",
     "status": "completed"
    },
    "tags": []
   },
   "source": [
    "### 2.5 Removal punctuation, leading, trailing and in between whitespace"
   ]
  },
  {
   "cell_type": "code",
   "execution_count": 14,
   "id": "2e5b4c70",
   "metadata": {
    "execution": {
     "iopub.execute_input": "2022-04-08T03:30:58.327822Z",
     "iopub.status.busy": "2022-04-08T03:30:58.280969Z",
     "iopub.status.idle": "2022-04-08T03:30:58.470865Z",
     "shell.execute_reply": "2022-04-08T03:30:58.471337Z",
     "shell.execute_reply.started": "2022-04-08T02:56:44.999337Z"
    },
    "papermill": {
     "duration": 0.24609,
     "end_time": "2022-04-08T03:30:58.471521",
     "exception": false,
     "start_time": "2022-04-08T03:30:58.225431",
     "status": "completed"
    },
    "tags": []
   },
   "outputs": [
    {
     "data": {
      "text/plain": [
       "0    our deeds are the reason of this earthquake ma...\n",
       "1                forest fire near la ronge sask canada\n",
       "2    all residents asked to shelter in place are be...\n",
       "3    people receive wildfires evacuation orders in ...\n",
       "4    just got sent this photo from ruby alaska as s...\n",
       "Name: text, dtype: object"
      ]
     },
     "execution_count": 14,
     "metadata": {},
     "output_type": "execute_result"
    }
   ],
   "source": [
    "df_train['text'] = df_train['text'].str.replace(r'[^\\w\\d\\s]',' ')\n",
    "df_train['text'] = df_train['text'].str.replace(r'^\\s+|\\s+?$', '')\n",
    "df_train['text'] = df_train['text'].str.replace(r'\\s+',' ')\n",
    "df_train['text'].head()"
   ]
  },
  {
   "cell_type": "markdown",
   "id": "ba414b94",
   "metadata": {
    "papermill": {
     "duration": 0.054106,
     "end_time": "2022-04-08T03:30:58.579026",
     "exception": false,
     "start_time": "2022-04-08T03:30:58.524920",
     "status": "completed"
    },
    "tags": []
   },
   "source": [
    "### 2.6 Removing Stopwords"
   ]
  },
  {
   "cell_type": "code",
   "execution_count": 15,
   "id": "fdf86057",
   "metadata": {
    "execution": {
     "iopub.execute_input": "2022-04-08T03:30:58.693640Z",
     "iopub.status.busy": "2022-04-08T03:30:58.692935Z",
     "iopub.status.idle": "2022-04-08T03:30:58.735282Z",
     "shell.execute_reply": "2022-04-08T03:30:58.735845Z",
     "shell.execute_reply.started": "2022-04-08T02:57:07.382751Z"
    },
    "papermill": {
     "duration": 0.102334,
     "end_time": "2022-04-08T03:30:58.736024",
     "exception": false,
     "start_time": "2022-04-08T03:30:58.633690",
     "status": "completed"
    },
    "tags": []
   },
   "outputs": [
    {
     "data": {
      "text/plain": [
       "0         deeds reason earthquake may allah forgive us\n",
       "1                forest fire near la ronge sask canada\n",
       "2    residents asked shelter place notified officer...\n",
       "3    people receive wildfires evacuation orders cal...\n",
       "4    got sent photo ruby alaska smoke wildfires pou...\n",
       "Name: text, dtype: object"
      ]
     },
     "execution_count": 15,
     "metadata": {},
     "output_type": "execute_result"
    }
   ],
   "source": [
    "from nltk.corpus import stopwords\n",
    "stop_words = set(stopwords.words('english'))\n",
    "\n",
    "df_train['text'] = df_train['text'].apply(lambda x: ' '.join(term for term in x.split() if term not in stop_words))\n",
    "df_train['text'].head()"
   ]
  },
  {
   "cell_type": "markdown",
   "id": "f64faf83",
   "metadata": {
    "papermill": {
     "duration": 0.054195,
     "end_time": "2022-04-08T03:30:58.844391",
     "exception": false,
     "start_time": "2022-04-08T03:30:58.790196",
     "status": "completed"
    },
    "tags": []
   },
   "source": [
    "### 2.7 Stemming"
   ]
  },
  {
   "cell_type": "code",
   "execution_count": 16,
   "id": "9e54d5f7",
   "metadata": {
    "execution": {
     "iopub.execute_input": "2022-04-08T03:30:58.956902Z",
     "iopub.status.busy": "2022-04-08T03:30:58.956254Z",
     "iopub.status.idle": "2022-04-08T03:31:01.015216Z",
     "shell.execute_reply": "2022-04-08T03:31:01.014705Z",
     "shell.execute_reply.started": "2022-04-08T02:57:27.497023Z"
    },
    "papermill": {
     "duration": 2.116827,
     "end_time": "2022-04-08T03:31:01.015377",
     "exception": false,
     "start_time": "2022-04-08T03:30:58.898550",
     "status": "completed"
    },
    "tags": []
   },
   "outputs": [
    {
     "data": {
      "text/plain": [
       "0            deed reason earthquak may allah forgiv us\n",
       "1                 forest fire near la rong sask canada\n",
       "2    resid ask shelter place notifi offic evacu she...\n",
       "3          peopl receiv wildfir evacu order california\n",
       "4    got sent photo rubi alaska smoke wildfir pour ...\n",
       "Name: text, dtype: object"
      ]
     },
     "execution_count": 16,
     "metadata": {},
     "output_type": "execute_result"
    }
   ],
   "source": [
    "from nltk.stem import PorterStemmer\n",
    "\n",
    "st = PorterStemmer()\n",
    "df_train['text']=df_train['text'].apply(lambda x: \" \".join([st.stem(word) for word in x.split()]))\n",
    "df_train['text'].head()"
   ]
  },
  {
   "cell_type": "markdown",
   "id": "5afca7d6",
   "metadata": {
    "papermill": {
     "duration": 0.05385,
     "end_time": "2022-04-08T03:31:01.123609",
     "exception": false,
     "start_time": "2022-04-08T03:31:01.069759",
     "status": "completed"
    },
    "tags": []
   },
   "source": [
    "### 2.8 Convert a Collection of Text Documents to a Matrix of Token Counts"
   ]
  },
  {
   "cell_type": "code",
   "execution_count": 17,
   "id": "a774031d",
   "metadata": {
    "execution": {
     "iopub.execute_input": "2022-04-08T03:31:01.245820Z",
     "iopub.status.busy": "2022-04-08T03:31:01.244850Z",
     "iopub.status.idle": "2022-04-08T03:31:01.431601Z",
     "shell.execute_reply": "2022-04-08T03:31:01.430951Z",
     "shell.execute_reply.started": "2022-04-08T03:00:56.162656Z"
    },
    "papermill": {
     "duration": 0.254251,
     "end_time": "2022-04-08T03:31:01.431747",
     "exception": false,
     "start_time": "2022-04-08T03:31:01.177496",
     "status": "completed"
    },
    "tags": []
   },
   "outputs": [],
   "source": [
    "from sklearn.feature_extraction.text import CountVectorizer\n",
    "\n",
    "cv = CountVectorizer(max_features = 1500)\n",
    "X = cv.fit_transform(df_train.text).toarray()\n",
    "y = df_train.iloc[:, 1].values"
   ]
  },
  {
   "cell_type": "code",
   "execution_count": 18,
   "id": "6420a8a3",
   "metadata": {
    "execution": {
     "iopub.execute_input": "2022-04-08T03:31:01.547574Z",
     "iopub.status.busy": "2022-04-08T03:31:01.546918Z",
     "iopub.status.idle": "2022-04-08T03:31:01.551896Z",
     "shell.execute_reply": "2022-04-08T03:31:01.552379Z",
     "shell.execute_reply.started": "2022-04-08T03:01:08.512313Z"
    },
    "papermill": {
     "duration": 0.063044,
     "end_time": "2022-04-08T03:31:01.552556",
     "exception": false,
     "start_time": "2022-04-08T03:31:01.489512",
     "status": "completed"
    },
    "tags": []
   },
   "outputs": [
    {
     "name": "stdout",
     "output_type": "stream",
     "text": [
      "[[0 0 0 ... 0 0 0]\n",
      " [0 0 0 ... 0 0 0]\n",
      " [0 0 0 ... 0 0 0]\n",
      " ...\n",
      " [0 0 0 ... 0 0 0]\n",
      " [0 0 0 ... 0 0 0]\n",
      " [0 0 1 ... 0 0 0]]\n",
      "=============================\n",
      "[1 1 1 ... 1 1 1]\n"
     ]
    }
   ],
   "source": [
    "print(X)\n",
    "print('=============================')\n",
    "print(y)"
   ]
  },
  {
   "cell_type": "markdown",
   "id": "d126cea8",
   "metadata": {
    "papermill": {
     "duration": 0.054769,
     "end_time": "2022-04-08T03:31:01.662993",
     "exception": false,
     "start_time": "2022-04-08T03:31:01.608224",
     "status": "completed"
    },
    "tags": []
   },
   "source": [
    "## 3. Modeling"
   ]
  },
  {
   "cell_type": "code",
   "execution_count": 19,
   "id": "bf77ed32",
   "metadata": {
    "execution": {
     "iopub.execute_input": "2022-04-08T03:31:01.777710Z",
     "iopub.status.busy": "2022-04-08T03:31:01.776742Z",
     "iopub.status.idle": "2022-04-08T03:31:01.780629Z",
     "shell.execute_reply": "2022-04-08T03:31:01.781207Z",
     "shell.execute_reply.started": "2022-04-08T03:01:55.666582Z"
    },
    "papermill": {
     "duration": 0.06266,
     "end_time": "2022-04-08T03:31:01.781410",
     "exception": false,
     "start_time": "2022-04-08T03:31:01.718750",
     "status": "completed"
    },
    "tags": []
   },
   "outputs": [],
   "source": [
    "from sklearn.model_selection import train_test_split"
   ]
  },
  {
   "cell_type": "code",
   "execution_count": 20,
   "id": "ae95da75",
   "metadata": {
    "execution": {
     "iopub.execute_input": "2022-04-08T03:31:01.895517Z",
     "iopub.status.busy": "2022-04-08T03:31:01.894504Z",
     "iopub.status.idle": "2022-04-08T03:31:01.943731Z",
     "shell.execute_reply": "2022-04-08T03:31:01.943112Z",
     "shell.execute_reply.started": "2022-04-08T03:02:00.197944Z"
    },
    "papermill": {
     "duration": 0.107702,
     "end_time": "2022-04-08T03:31:01.943868",
     "exception": false,
     "start_time": "2022-04-08T03:31:01.836166",
     "status": "completed"
    },
    "tags": []
   },
   "outputs": [],
   "source": [
    "X_train, X_test, y_train, y_test = train_test_split(X, y, test_size = 0.2, random_state = 0)"
   ]
  },
  {
   "cell_type": "code",
   "execution_count": 21,
   "id": "943f6556",
   "metadata": {
    "execution": {
     "iopub.execute_input": "2022-04-08T03:31:02.059763Z",
     "iopub.status.busy": "2022-04-08T03:31:02.058818Z",
     "iopub.status.idle": "2022-04-08T03:31:02.202457Z",
     "shell.execute_reply": "2022-04-08T03:31:02.201742Z",
     "shell.execute_reply.started": "2022-04-08T03:02:08.047892Z"
    },
    "papermill": {
     "duration": 0.202519,
     "end_time": "2022-04-08T03:31:02.202602",
     "exception": false,
     "start_time": "2022-04-08T03:31:02.000083",
     "status": "completed"
    },
    "tags": []
   },
   "outputs": [],
   "source": [
    "from sklearn.neighbors import KNeighborsClassifier\n",
    "from sklearn.tree import DecisionTreeClassifier\n",
    "from sklearn.ensemble import RandomForestClassifier\n",
    "from sklearn.linear_model import LogisticRegression, SGDClassifier\n",
    "from sklearn.naive_bayes import MultinomialNB\n",
    "from sklearn.svm import SVC\n",
    "from sklearn.metrics import classification_report, accuracy_score, confusion_matrix"
   ]
  },
  {
   "cell_type": "markdown",
   "id": "8c1db085",
   "metadata": {
    "papermill": {
     "duration": 0.055826,
     "end_time": "2022-04-08T03:31:02.314447",
     "exception": false,
     "start_time": "2022-04-08T03:31:02.258621",
     "status": "completed"
    },
    "tags": []
   },
   "source": [
    "### 3.1 Define Models to Train"
   ]
  },
  {
   "cell_type": "markdown",
   "id": "260b7281",
   "metadata": {
    "papermill": {
     "duration": 0.055213,
     "end_time": "2022-04-08T03:31:02.425195",
     "exception": false,
     "start_time": "2022-04-08T03:31:02.369982",
     "status": "completed"
    },
    "tags": []
   },
   "source": [
    "**Here all selected models are with their default parameters**"
   ]
  },
  {
   "cell_type": "code",
   "execution_count": 22,
   "id": "7ac10b73",
   "metadata": {
    "execution": {
     "iopub.execute_input": "2022-04-08T03:31:02.542837Z",
     "iopub.status.busy": "2022-04-08T03:31:02.539416Z",
     "iopub.status.idle": "2022-04-08T03:31:02.544565Z",
     "shell.execute_reply": "2022-04-08T03:31:02.545084Z",
     "shell.execute_reply.started": "2022-04-08T03:07:37.172622Z"
    },
    "papermill": {
     "duration": 0.06489,
     "end_time": "2022-04-08T03:31:02.545526",
     "exception": false,
     "start_time": "2022-04-08T03:31:02.480636",
     "status": "completed"
    },
    "tags": []
   },
   "outputs": [],
   "source": [
    "names = [\"K Nearest Neighbors\", \"Decision Tree\", \"Random Forest\", \"Logistic Regression\", \"SGD Classifier\",\n",
    "         \"Naive Bayes\", \"SVM Linear\"]\n",
    "\n",
    "classifiers = [\n",
    "    KNeighborsClassifier(),\n",
    "    DecisionTreeClassifier(),\n",
    "    RandomForestClassifier(),\n",
    "    LogisticRegression(),\n",
    "    SGDClassifier(max_iter = 100),\n",
    "    MultinomialNB(),\n",
    "    SVC(kernel = 'linear')\n",
    "]\n",
    "\n",
    "models = zip(names, classifiers)"
   ]
  },
  {
   "cell_type": "markdown",
   "id": "a30b284b",
   "metadata": {
    "papermill": {
     "duration": 0.054129,
     "end_time": "2022-04-08T03:31:02.654577",
     "exception": false,
     "start_time": "2022-04-08T03:31:02.600448",
     "status": "completed"
    },
    "tags": []
   },
   "source": [
    "### 3.2 Comparing Accuracy of Different Models"
   ]
  },
  {
   "cell_type": "code",
   "execution_count": 23,
   "id": "e9442066",
   "metadata": {
    "execution": {
     "iopub.execute_input": "2022-04-08T03:31:02.767346Z",
     "iopub.status.busy": "2022-04-08T03:31:02.766697Z",
     "iopub.status.idle": "2022-04-08T03:31:55.364431Z",
     "shell.execute_reply": "2022-04-08T03:31:55.364950Z",
     "shell.execute_reply.started": "2022-04-08T03:07:40.398555Z"
    },
    "papermill": {
     "duration": 52.655558,
     "end_time": "2022-04-08T03:31:55.365117",
     "exception": false,
     "start_time": "2022-04-08T03:31:02.709559",
     "status": "completed"
    },
    "tags": []
   },
   "outputs": [
    {
     "name": "stdout",
     "output_type": "stream",
     "text": [
      "K Nearest Neighbors Accuracy: 72.6854891661195\n",
      "Decision Tree Accuracy: 74.32698621142481\n",
      "Random Forest Accuracy: 78.26657912015759\n",
      "Logistic Regression Accuracy: 78.72619829284308\n",
      "SGD Classifier Accuracy: 77.8726198292843\n",
      "Naive Bayes Accuracy: 77.74130006565989\n",
      "SVM Linear Accuracy: 77.34734077478662\n"
     ]
    }
   ],
   "source": [
    "for name, model in models:\n",
    "    nltk_model = model\n",
    "    nltk_model.fit(X_train,y_train)\n",
    "    accuracy = nltk_model.score(X_test, y_test)*100\n",
    "    print(\"{} Accuracy: {}\".format(name, accuracy))"
   ]
  },
  {
   "cell_type": "markdown",
   "id": "18267f52",
   "metadata": {
    "papermill": {
     "duration": 0.056963,
     "end_time": "2022-04-08T03:31:55.479353",
     "exception": false,
     "start_time": "2022-04-08T03:31:55.422390",
     "status": "completed"
    },
    "tags": []
   },
   "source": [
    "### 3.3 Selected Model"
   ]
  },
  {
   "cell_type": "code",
   "execution_count": 24,
   "id": "75b6e68c",
   "metadata": {
    "execution": {
     "iopub.execute_input": "2022-04-08T03:31:55.597537Z",
     "iopub.status.busy": "2022-04-08T03:31:55.596902Z",
     "iopub.status.idle": "2022-04-08T03:31:56.090574Z",
     "shell.execute_reply": "2022-04-08T03:31:56.091466Z",
     "shell.execute_reply.started": "2022-04-08T03:24:36.329990Z"
    },
    "papermill": {
     "duration": 0.555009,
     "end_time": "2022-04-08T03:31:56.091735",
     "exception": false,
     "start_time": "2022-04-08T03:31:55.536726",
     "status": "completed"
    },
    "tags": []
   },
   "outputs": [
    {
     "data": {
      "text/plain": [
       "RandomForestClassifier()"
      ]
     },
     "execution_count": 24,
     "metadata": {},
     "output_type": "execute_result"
    }
   ],
   "source": [
    "selected_classifier =  RandomForestClassifier()\n",
    "selected_classifier.fit(X_train, y_train)"
   ]
  },
  {
   "cell_type": "code",
   "execution_count": 25,
   "id": "2c35cfb8",
   "metadata": {
    "execution": {
     "iopub.execute_input": "2022-04-08T03:31:56.267293Z",
     "iopub.status.busy": "2022-04-08T03:31:56.266640Z",
     "iopub.status.idle": "2022-04-08T03:31:56.275344Z",
     "shell.execute_reply": "2022-04-08T03:31:56.276353Z",
     "shell.execute_reply.started": "2022-04-08T03:24:40.061987Z"
    },
    "papermill": {
     "duration": 0.077878,
     "end_time": "2022-04-08T03:31:56.276637",
     "exception": false,
     "start_time": "2022-04-08T03:31:56.198759",
     "status": "completed"
    },
    "tags": []
   },
   "outputs": [],
   "source": [
    "prediction = selected_classifier.predict(X_test)"
   ]
  },
  {
   "cell_type": "markdown",
   "id": "b220cf9c",
   "metadata": {
    "papermill": {
     "duration": 0.06075,
     "end_time": "2022-04-08T03:31:56.444595",
     "exception": false,
     "start_time": "2022-04-08T03:31:56.383845",
     "status": "completed"
    },
    "tags": []
   },
   "source": [
    "### 3.4 Print Classification Report and Confusion Matrix"
   ]
  },
  {
   "cell_type": "code",
   "execution_count": 27,
   "id": "ed294c17",
   "metadata": {
    "execution": {
     "iopub.execute_input": "2022-04-08T03:31:56.565630Z",
     "iopub.status.busy": "2022-04-08T03:31:56.564895Z",
     "iopub.status.idle": "2022-04-08T03:31:56.585945Z",
     "shell.execute_reply": "2022-04-08T03:31:56.586865Z",
     "shell.execute_reply.started": "2022-04-08T03:25:48.402483Z"
    },
    "papermill": {
     "duration": 0.084941,
     "end_time": "2022-04-08T03:31:56.587094",
     "exception": false,
     "start_time": "2022-04-08T03:31:56.502153",
     "status": "completed"
    },
    "tags": []
   },
   "outputs": [
    {
     "name": "stdout",
     "output_type": "stream",
     "text": [
      "              precision    recall  f1-score   support\n",
      "\n",
      "           0       0.79      0.85      0.82       886\n",
      "           1       0.76      0.69      0.73       637\n",
      "\n",
      "    accuracy                           0.78      1523\n",
      "   macro avg       0.78      0.77      0.77      1523\n",
      "weighted avg       0.78      0.78      0.78      1523\n",
      "\n"
     ]
    },
    {
     "data": {
      "text/html": [
       "<div>\n",
       "<style scoped>\n",
       "    .dataframe tbody tr th:only-of-type {\n",
       "        vertical-align: middle;\n",
       "    }\n",
       "\n",
       "    .dataframe tbody tr th {\n",
       "        vertical-align: top;\n",
       "    }\n",
       "\n",
       "    .dataframe thead tr th {\n",
       "        text-align: left;\n",
       "    }\n",
       "</style>\n",
       "<table border=\"1\" class=\"dataframe\">\n",
       "  <thead>\n",
       "    <tr>\n",
       "      <th></th>\n",
       "      <th></th>\n",
       "      <th colspan=\"2\" halign=\"left\">predicted</th>\n",
       "    </tr>\n",
       "    <tr>\n",
       "      <th></th>\n",
       "      <th></th>\n",
       "      <th>Non_Disaster</th>\n",
       "      <th>Disaster</th>\n",
       "    </tr>\n",
       "  </thead>\n",
       "  <tbody>\n",
       "    <tr>\n",
       "      <th rowspan=\"2\" valign=\"top\">actual</th>\n",
       "      <th>Non_Disaster</th>\n",
       "      <td>750</td>\n",
       "      <td>136</td>\n",
       "    </tr>\n",
       "    <tr>\n",
       "      <th>Disaster</th>\n",
       "      <td>195</td>\n",
       "      <td>442</td>\n",
       "    </tr>\n",
       "  </tbody>\n",
       "</table>\n",
       "</div>"
      ],
      "text/plain": [
       "                       predicted         \n",
       "                    Non_Disaster Disaster\n",
       "actual Non_Disaster          750      136\n",
       "       Disaster              195      442"
      ]
     },
     "execution_count": 27,
     "metadata": {},
     "output_type": "execute_result"
    }
   ],
   "source": [
    "print(classification_report(y_test, prediction))\n",
    "\n",
    "pd.DataFrame(\n",
    "    confusion_matrix(y_test, prediction),\n",
    "    index = [['actual', 'actual'], ['Non_Disaster', 'Disaster']],\n",
    "    columns = [['predicted', 'predicted'], ['Non_Disaster', 'Disaster']])"
   ]
  },
  {
   "cell_type": "markdown",
   "id": "ca4c69b4",
   "metadata": {
    "papermill": {
     "duration": 0.0585,
     "end_time": "2022-04-08T03:31:56.705302",
     "exception": false,
     "start_time": "2022-04-08T03:31:56.646802",
     "status": "completed"
    },
    "tags": []
   },
   "source": [
    "## 4. Test Dataset"
   ]
  },
  {
   "cell_type": "markdown",
   "id": "eff82480",
   "metadata": {
    "papermill": {
     "duration": 0.058233,
     "end_time": "2022-04-08T03:31:56.821993",
     "exception": false,
     "start_time": "2022-04-08T03:31:56.763760",
     "status": "completed"
    },
    "tags": []
   },
   "source": [
    "### 4.1 Preprocessing of Dataset"
   ]
  },
  {
   "cell_type": "code",
   "execution_count": 28,
   "id": "9667af8c",
   "metadata": {
    "execution": {
     "iopub.execute_input": "2022-04-08T03:31:56.943394Z",
     "iopub.status.busy": "2022-04-08T03:31:56.942374Z",
     "iopub.status.idle": "2022-04-08T03:31:56.969195Z",
     "shell.execute_reply": "2022-04-08T03:31:56.969765Z",
     "shell.execute_reply.started": "2022-04-08T03:26:52.011146Z"
    },
    "papermill": {
     "duration": 0.089144,
     "end_time": "2022-04-08T03:31:56.969954",
     "exception": false,
     "start_time": "2022-04-08T03:31:56.880810",
     "status": "completed"
    },
    "tags": []
   },
   "outputs": [],
   "source": [
    "df_test = pd.read_csv('test.csv')"
   ]
  },
  {
   "cell_type": "code",
   "execution_count": 29,
   "id": "b0c63adf",
   "metadata": {
    "execution": {
     "iopub.execute_input": "2022-04-08T03:31:57.091830Z",
     "iopub.status.busy": "2022-04-08T03:31:57.090797Z",
     "iopub.status.idle": "2022-04-08T03:31:57.097880Z",
     "shell.execute_reply": "2022-04-08T03:31:57.098400Z",
     "shell.execute_reply.started": "2022-04-08T03:26:58.697006Z"
    },
    "papermill": {
     "duration": 0.069414,
     "end_time": "2022-04-08T03:31:57.098568",
     "exception": false,
     "start_time": "2022-04-08T03:31:57.029154",
     "status": "completed"
    },
    "tags": []
   },
   "outputs": [
    {
     "name": "stdout",
     "output_type": "stream",
     "text": [
      "   id keyword location                                               text\n",
      "0   0     NaN      NaN                 Just happened a terrible car crash\n",
      "1   2     NaN      NaN  Heard about #earthquake is different cities, s...\n",
      "2   3     NaN      NaN  there is a forest fire at spot pond, geese are...\n",
      "3   9     NaN      NaN           Apocalypse lighting. #Spokane #wildfires\n",
      "4  11     NaN      NaN      Typhoon Soudelor kills 28 in China and Taiwan\n"
     ]
    }
   ],
   "source": [
    "print(df_test.head())"
   ]
  },
  {
   "cell_type": "code",
   "execution_count": 30,
   "id": "fdbd0c49",
   "metadata": {
    "execution": {
     "iopub.execute_input": "2022-04-08T03:31:57.219686Z",
     "iopub.status.busy": "2022-04-08T03:31:57.219078Z",
     "iopub.status.idle": "2022-04-08T03:31:57.223819Z",
     "shell.execute_reply": "2022-04-08T03:31:57.224407Z",
     "shell.execute_reply.started": "2022-04-08T03:27:03.041314Z"
    },
    "papermill": {
     "duration": 0.066393,
     "end_time": "2022-04-08T03:31:57.224568",
     "exception": false,
     "start_time": "2022-04-08T03:31:57.158175",
     "status": "completed"
    },
    "tags": []
   },
   "outputs": [],
   "source": [
    "df_test.drop(['id','keyword','location'], axis = 1, inplace=True)"
   ]
  },
  {
   "cell_type": "code",
   "execution_count": 31,
   "id": "890ede36",
   "metadata": {
    "execution": {
     "iopub.execute_input": "2022-04-08T03:31:57.345544Z",
     "iopub.status.busy": "2022-04-08T03:31:57.344830Z",
     "iopub.status.idle": "2022-04-08T03:31:58.505128Z",
     "shell.execute_reply": "2022-04-08T03:31:58.505683Z",
     "shell.execute_reply.started": "2022-04-08T03:27:07.564502Z"
    },
    "papermill": {
     "duration": 1.222723,
     "end_time": "2022-04-08T03:31:58.505866",
     "exception": false,
     "start_time": "2022-04-08T03:31:57.283143",
     "status": "completed"
    },
    "tags": []
   },
   "outputs": [
    {
     "data": {
      "text/plain": [
       "0                             happen terribl car crash\n",
       "1        heard earthquak differ citi stay safe everyon\n",
       "2    forest fire spot pond gees flee across street ...\n",
       "3                       apocalyps light spokan wildfir\n",
       "4                   typhoon soudelor kill china taiwan\n",
       "Name: text, dtype: object"
      ]
     },
     "execution_count": 31,
     "metadata": {},
     "output_type": "execute_result"
    }
   ],
   "source": [
    "#---Lowercase-------\n",
    "df_test['text'] = df_test['text'].apply(lambda x: \" \".join(x.lower() for x in x.split()))\n",
    "\n",
    "#---Replace URLs----\n",
    "df_train['text'] = df_test['text'].str.replace(r'(http|ftp|https):\\/\\/[\\w\\-_]+(\\.[\\w\\-_]+)+([\\w\\-\\.,@?^=%&amp;:/~\\+#]*[\\w\\-\\@?^=%&amp;/~\\+#])?', ' ')\n",
    "\n",
    "#---Special Characters Removal---\n",
    "df_test['text']= df_test['text'].str.replace('rt ',\"\").str.replace('@','').str.replace('#','').str.replace('[^\\w\\s]','').str.replace('[1-9]','')\n",
    "\n",
    "#---Removal of Numbers------\n",
    "df_train['text'] = df_train['text'].str.replace(r'\\d+(\\.\\d+)?','')\n",
    "\n",
    "#----Removal punctuation, leadign, trailing and in between whitespace----\n",
    "df_test['text'] = df_test['text'].str.replace(r'[^\\w\\d\\s]',' ')\n",
    "df_test['text'] = df_test['text'].str.replace(r'^\\s+|\\s+?$', '')\n",
    "df_test['text'] = df_test['text'].str.replace(r'\\s+',' ')\n",
    "\n",
    "#-----Removing Stopwords-------\n",
    "df_test['text'] = df_test['text'].apply(lambda x: ' '.join(term for term in x.split() if term not in stop_words))\n",
    "\n",
    "#-----Stemming--------------------\n",
    "df_test['text']=df_test['text'].apply(lambda x: \" \".join([st.stem(word) for word in x.split()]))\n",
    "df_test['text'].head()"
   ]
  },
  {
   "cell_type": "code",
   "execution_count": 32,
   "id": "95a36086",
   "metadata": {
    "execution": {
     "iopub.execute_input": "2022-04-08T03:31:58.636275Z",
     "iopub.status.busy": "2022-04-08T03:31:58.635633Z",
     "iopub.status.idle": "2022-04-08T03:31:58.730820Z",
     "shell.execute_reply": "2022-04-08T03:31:58.731460Z",
     "shell.execute_reply.started": "2022-04-08T03:27:14.023883Z"
    },
    "papermill": {
     "duration": 0.160833,
     "end_time": "2022-04-08T03:31:58.731633",
     "exception": false,
     "start_time": "2022-04-08T03:31:58.570800",
     "status": "completed"
    },
    "tags": []
   },
   "outputs": [],
   "source": [
    "df_test = cv.fit_transform(df_test.text).toarray()"
   ]
  },
  {
   "cell_type": "code",
   "execution_count": 33,
   "id": "44c1729d",
   "metadata": {
    "execution": {
     "iopub.execute_input": "2022-04-08T03:31:58.855114Z",
     "iopub.status.busy": "2022-04-08T03:31:58.854455Z",
     "iopub.status.idle": "2022-04-08T03:31:58.877712Z",
     "shell.execute_reply": "2022-04-08T03:31:58.878557Z",
     "shell.execute_reply.started": "2022-04-08T03:27:19.458843Z"
    },
    "papermill": {
     "duration": 0.086544,
     "end_time": "2022-04-08T03:31:58.878850",
     "exception": false,
     "start_time": "2022-04-08T03:31:58.792306",
     "status": "completed"
    },
    "tags": []
   },
   "outputs": [],
   "source": [
    "final_predictions = selected_classifier.predict(df_test)"
   ]
  }
 ],
 "metadata": {
  "kernelspec": {
   "display_name": "Python 3",
   "language": "python",
   "name": "python3"
  },
  "language_info": {
   "codemirror_mode": {
    "name": "ipython",
    "version": 3
   },
   "file_extension": ".py",
   "mimetype": "text/x-python",
   "name": "python",
   "nbconvert_exporter": "python",
   "pygments_lexer": "ipython3",
   "version": "3.8.8"
  },
  "papermill": {
   "default_parameters": {},
   "duration": 76.392858,
   "end_time": "2022-04-08T03:32:00.326452",
   "environment_variables": {},
   "exception": null,
   "input_path": "__notebook__.ipynb",
   "output_path": "__notebook__.ipynb",
   "parameters": {},
   "start_time": "2022-04-08T03:30:43.933594",
   "version": "2.3.3"
  }
 },
 "nbformat": 4,
 "nbformat_minor": 5
}
